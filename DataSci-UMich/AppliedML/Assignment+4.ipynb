{
 "cells": [
  {
   "cell_type": "markdown",
   "metadata": {},
   "source": [
    "---\n",
    "\n",
    "_You are currently looking at **version 1.1** of this notebook. To download notebooks and datafiles, as well as get help on Jupyter notebooks in the Coursera platform, visit the [Jupyter Notebook FAQ](https://www.coursera.org/learn/python-machine-learning/resources/bANLa) course resource._\n",
    "\n",
    "---"
   ]
  },
  {
   "cell_type": "markdown",
   "metadata": {},
   "source": [
    "## Assignment 4 - Understanding and Predicting Property Maintenance Fines\n",
    "\n",
    "This assignment is based on a data challenge from the Michigan Data Science Team ([MDST](http://midas.umich.edu/mdst/)). \n",
    "\n",
    "The Michigan Data Science Team ([MDST](http://midas.umich.edu/mdst/)) and the Michigan Student Symposium for Interdisciplinary Statistical Sciences ([MSSISS](https://sites.lsa.umich.edu/mssiss/)) have partnered with the City of Detroit to help solve one of the most pressing problems facing Detroit - blight. [Blight violations](http://www.detroitmi.gov/How-Do-I/Report/Blight-Complaint-FAQs) are issued by the city to individuals who allow their properties to remain in a deteriorated condition. Every year, the city of Detroit issues millions of dollars in fines to residents and every year, many of these fines remain unpaid. Enforcing unpaid blight fines is a costly and tedious process, so the city wants to know: how can we increase blight ticket compliance?\n",
    "\n",
    "The first step in answering this question is understanding when and why a resident might fail to comply with a blight ticket. This is where predictive modeling comes in. For this assignment, your task is to predict whether a given blight ticket will be paid on time.\n",
    "\n",
    "All data for this assignment has been provided to us through the [Detroit Open Data Portal](https://data.detroitmi.gov/). **Only the data already included in your Coursera directory can be used for training the model for this assignment.** Nonetheless, we encourage you to look into data from other Detroit datasets to help inform feature creation and model selection. We recommend taking a look at the following related datasets:\n",
    "\n",
    "* [Building Permits](https://data.detroitmi.gov/Property-Parcels/Building-Permits/xw2a-a7tf)\n",
    "* [Trades Permits](https://data.detroitmi.gov/Property-Parcels/Trades-Permits/635b-dsgv)\n",
    "* [Improve Detroit: Submitted Issues](https://data.detroitmi.gov/Government/Improve-Detroit-Submitted-Issues/fwz3-w3yn)\n",
    "* [DPD: Citizen Complaints](https://data.detroitmi.gov/Public-Safety/DPD-Citizen-Complaints-2016/kahe-efs3)\n",
    "* [Parcel Map](https://data.detroitmi.gov/Property-Parcels/Parcel-Map/fxkw-udwf)\n",
    "\n",
    "___\n",
    "\n",
    "We provide you with two data files for use in training and validating your models: train.csv and test.csv. Each row in these two files corresponds to a single blight ticket, and includes information about when, why, and to whom each ticket was issued. The target variable is compliance, which is True if the ticket was paid early, on time, or within one month of the hearing data, False if the ticket was paid after the hearing date or not at all, and Null if the violator was found not responsible. Compliance, as well as a handful of other variables that will not be available at test-time, are only included in train.csv.\n",
    "\n",
    "Note: All tickets where the violators were found not responsible are not considered during evaluation. They are included in the training set as an additional source of data for visualization, and to enable unsupervised and semi-supervised approaches. However, they are not included in the test set.\n",
    "\n",
    "<br>\n",
    "\n",
    "**File descriptions** (Use only this data for training your model!)\n",
    "\n",
    "    readonly/train.csv - the training set (all tickets issued 2004-2011)\n",
    "    readonly/test.csv - the test set (all tickets issued 2012-2016)\n",
    "    readonly/addresses.csv & readonly/latlons.csv - mapping from ticket id to addresses, and from addresses to lat/lon coordinates. \n",
    "     Note: misspelled addresses may be incorrectly geolocated.\n",
    "\n",
    "<br>\n",
    "\n",
    "**Data fields**\n",
    "\n",
    "train.csv & test.csv\n",
    "\n",
    "    ticket_id - unique identifier for tickets\n",
    "    agency_name - Agency that issued the ticket\n",
    "    inspector_name - Name of inspector that issued the ticket\n",
    "    violator_name - Name of the person/organization that the ticket was issued to\n",
    "    violation_street_number, violation_street_name, violation_zip_code - Address where the violation occurred\n",
    "    mailing_address_str_number, mailing_address_str_name, city, state, zip_code, non_us_str_code, country - Mailing address of the violator\n",
    "    ticket_issued_date - Date and time the ticket was issued\n",
    "    hearing_date - Date and time the violator's hearing was scheduled\n",
    "    violation_code, violation_description - Type of violation\n",
    "    disposition - Judgment and judgement type\n",
    "    fine_amount - Violation fine amount, excluding fees\n",
    "    admin_fee - $20 fee assigned to responsible judgments\n",
    "state_fee - $10 fee assigned to responsible judgments\n",
    "    late_fee - 10% fee assigned to responsible judgments\n",
    "    discount_amount - discount applied, if any\n",
    "    clean_up_cost - DPW clean-up or graffiti removal cost\n",
    "    judgment_amount - Sum of all fines and fees\n",
    "    grafitti_status - Flag for graffiti violations\n",
    "    \n",
    "train.csv only\n",
    "\n",
    "    payment_amount - Amount paid, if any\n",
    "    payment_date - Date payment was made, if it was received\n",
    "    payment_status - Current payment status as of Feb 1 2017\n",
    "    balance_due - Fines and fees still owed\n",
    "    collection_status - Flag for payments in collections\n",
    "    compliance [target variable for prediction] \n",
    "     Null = Not responsible\n",
    "     0 = Responsible, non-compliant\n",
    "     1 = Responsible, compliant\n",
    "    compliance_detail - More information on why each ticket was marked compliant or non-compliant\n",
    "\n",
    "\n",
    "___\n",
    "\n",
    "## Evaluation\n",
    "\n",
    "Your predictions will be given as the probability that the corresponding blight ticket will be paid on time.\n",
    "\n",
    "The evaluation metric for this assignment is the Area Under the ROC Curve (AUC). \n",
    "\n",
    "Your grade will be based on the AUC score computed for your classifier. A model which with an AUROC of 0.7 passes this assignment, over 0.75 will recieve full points.\n",
    "___\n",
    "\n",
    "For this assignment, create a function that trains a model to predict blight ticket compliance in Detroit using `readonly/train.csv`. Using this model, return a series of length 61001 with the data being the probability that each corresponding ticket from `readonly/test.csv` will be paid, and the index being the ticket_id.\n",
    "\n",
    "Example:\n",
    "\n",
    "    ticket_id\n",
    "       284932    0.531842\n",
    "       285362    0.401958\n",
    "       285361    0.105928\n",
    "       285338    0.018572\n",
    "                 ...\n",
    "       376499    0.208567\n",
    "       376500    0.818759\n",
    "       369851    0.018528\n",
    "       Name: compliance, dtype: float32\n",
    "       \n",
    "### Hints\n",
    "\n",
    "* Make sure your code is working before submitting it to the autograder.\n",
    "\n",
    "* Print out your result to see whether there is anything weird (e.g., all probabilities are the same).\n",
    "\n",
    "* Generally the total runtime should be less than 10 mins. You should NOT use Neural Network related classifiers (e.g., MLPClassifier) in this question. \n",
    "\n",
    "* Try to avoid global variables. If you have other functions besides blight_model, you should move those functions inside the scope of blight_model.\n",
    "\n",
    "* Refer to the pinned threads in Week 4's discussion forum when there is something you could not figure it out."
   ]
  },
  {
   "cell_type": "code",
   "execution_count": 1,
   "metadata": {
    "collapsed": true
   },
   "outputs": [],
   "source": [
    "import pandas as pd\n",
    "import numpy as np\n",
    "#import matplotlib.pyplot as plt\n",
    "from sklearn import preprocessing\n",
    "#import seaborn as sns\n",
    "from sklearn.model_selection import cross_val_score, train_test_split\n",
    "\n",
    "from sklearn.model_selection import StratifiedKFold\n",
    "from sklearn.neighbors import KNeighborsClassifier\n",
    "from sklearn.linear_model import LogisticRegression\n",
    "from sklearn.tree import DecisionTreeClassifier\n",
    "from sklearn.model_selection import GridSearchCV\n",
    "from sklearn.metrics import accuracy_score\n",
    "\n",
    "from sklearn.ensemble import RandomForestClassifier\n",
    "from sklearn.ensemble import GradientBoostingClassifier\n",
    "from sklearn.ensemble import AdaBoostClassifier"
   ]
  },
  {
   "cell_type": "code",
   "execution_count": 11,
   "metadata": {
    "collapsed": false
   },
   "outputs": [
    {
     "data": {
      "text/plain": [
       "ticket_id\n",
       "284932    0.491861\n",
       "285362    0.487822\n",
       "285361    0.492692\n",
       "285338    0.492734\n",
       "285346    0.493527\n",
       "285345    0.492734\n",
       "285347    0.490195\n",
       "285342    0.499892\n",
       "285530    0.488657\n",
       "284989    0.489393\n",
       "285344    0.490963\n",
       "285343    0.489425\n",
       "285340    0.488657\n",
       "285341    0.490195\n",
       "285349    0.494347\n",
       "285348    0.493553\n",
       "284991    0.490967\n",
       "285532    0.490148\n",
       "285406    0.489313\n",
       "285001    0.489331\n",
       "285006    0.489399\n",
       "285405    0.487068\n",
       "285337    0.488580\n",
       "285496    0.489681\n",
       "285497    0.492220\n",
       "285378    0.487068\n",
       "285589    0.490132\n",
       "285585    0.491899\n",
       "285501    0.493014\n",
       "285581    0.487089\n",
       "            ...   \n",
       "376367    0.488464\n",
       "376366    0.490340\n",
       "376362    0.497497\n",
       "376363    0.499056\n",
       "376365    0.488464\n",
       "376364    0.490340\n",
       "376228    0.491206\n",
       "376265    0.490688\n",
       "376286    0.494190\n",
       "376320    0.490662\n",
       "376314    0.489882\n",
       "376327    0.495767\n",
       "376385    0.494152\n",
       "376435    0.497197\n",
       "376370    0.499074\n",
       "376434    0.490102\n",
       "376459    0.491628\n",
       "376478    0.484196\n",
       "376473    0.489882\n",
       "376484    0.489567\n",
       "376482    0.490083\n",
       "376480    0.490083\n",
       "376479    0.490083\n",
       "376481    0.490083\n",
       "376483    0.492669\n",
       "376496    0.485844\n",
       "376497    0.485844\n",
       "376499    0.492655\n",
       "376500    0.492655\n",
       "369851    0.488940\n",
       "dtype: float64"
      ]
     },
     "execution_count": 11,
     "metadata": {},
     "output_type": "execute_result"
    }
   ],
   "source": [
    "def blight_model():\n",
    "    \n",
    "    # read training data file and combine with location data into a full set of training data\n",
    "    # with ticket_id as the index\n",
    "    train_raw = pd.read_csv('train.csv',encoding='latin1',low_memory=False)\n",
    "    latlons = pd.read_csv('latlons.csv', encoding='latin1')\n",
    "    addresses = pd.read_csv('addresses.csv', encoding='latin1')\n",
    "    \n",
    "    # latlons maps address to coordinates and addresses maps ticket_id to address\n",
    "    loc = addresses.merge(latlons, how='inner', on='address')\n",
    "    train_full = train_raw.merge(loc, how='inner', on='ticket_id').set_index('ticket_id')\n",
    "    \n",
    "    #print(train_full.columns)\n",
    "    \n",
    "    # remove columns that leak data or hold info for target var\n",
    "    # these features only in training data\n",
    "    train_set = train_full.drop(['payment_amount','balance_due','payment_date','payment_status',\n",
    "                                 'collection_status','compliance_detail'],axis=1)\n",
    "    \n",
    "    # feature selection\n",
    "    # encode string type features to include them in correlation heatmap\n",
    "    \n",
    "    # drop features that don't make sense to encode\n",
    "    # drop more after inspection of correlation heatmap\n",
    "    # to be dropped from final test data as well\n",
    "    drop_features = ['inspector_name','violator_name','violation_street_number','violation_street_name',\n",
    "                           'violation_zip_code','mailing_address_str_number','mailing_address_str_name',\n",
    "                            'non_us_str_code','hearing_date','violation_description','admin_fee','state_fee',\n",
    "                            'late_fee','discount_amount','clean_up_cost','address',\n",
    "                           'agency_name','state','country','ticket_issued_date']\n",
    "    \n",
    "    train = train_set.drop(drop_features,axis=1).fillna(method='pad')\n",
    "    \n",
    "    train['grafitti_status'].fillna('',inplace=True)\n",
    "        \n",
    "    # separate target variable from feature data\n",
    "    X = train.drop(['compliance'],axis=1)\n",
    "    y = train['compliance']\n",
    "    \n",
    "    le = preprocessing.LabelEncoder()\n",
    "    \n",
    "    for feature in X.columns:\n",
    "        if isinstance(feature, str):\n",
    "            \n",
    "            #print(feature)\n",
    "            le.fit(X[feature])\n",
    "            X[feature] = le.transform(X[feature])\n",
    "            \n",
    "    # create correlation heatmap\n",
    "    #plt.figure(figsize=(10,10))\n",
    "    #correlation = X.corr()\n",
    "    #sns.heatmap(correlation, annot=True)\n",
    "    #plt.xticks(rotation=45)\n",
    "    #plt.yticks(rotation=45)\n",
    "    \n",
    "    #plt.show()\n",
    "    \n",
    "    #print(train_set.columns)\n",
    "    #print(correlation)\n",
    "    \n",
    "    # scale and split training data\n",
    "    # use train test split on training data, save test data for final validation\n",
    "    scaler = preprocessing.MinMaxScaler()\n",
    "    X = scaler.fit_transform(X)\n",
    "    \n",
    "    X_train, X_test, y_train, y_test = train_test_split(X,y, random_state=0)\n",
    "    \n",
    "#######################################################################################################################\n",
    "    \n",
    "    # try a few different models and compare accuracy scores\n",
    "    #models = []\n",
    "    #models.append(('K Neighbors', KNeighborsClassifier()))\n",
    "    #models.append(('Logistic Regression', LogisticRegression(solver='liblinear', multi_class='ovr')))\n",
    "    #models.append(('Decision Tree', DecisionTreeClassifier()))\n",
    "    \n",
    "    # use stratified k-fold splits for model selection\n",
    "    #output = []\n",
    "    #names = []\n",
    "    #for name, model in models:\n",
    "        #kfold = StratifiedKFold(n_splits=3, random_state=0, shuffle=True)\n",
    "        #cv_results = cross_val_score(model, X_train, y_train, cv=kfold, scoring='accuracy')\n",
    "        #output.append(cv_results)\n",
    "        #names.append(name)\n",
    "        #print('%s\\n Mean Score: %f\\n' % (name, cv_results.mean()) )\n",
    "        \n",
    "    # use classifier with highest average cross validation score (logistic regression)\n",
    "    # perform gridsearch to tune parameters\n",
    "    #lr_grid = LogisticRegression(solver='liblinear', multi_class='ovr')\n",
    "    #grid_values = {'penalty': ['l1','l2'], 'C': [0.001,0.01,0.1,1,10,100,1000]}\n",
    "    #gridsearch = GridSearchCV(lr_grid, grid_values, scoring='roc_auc')\n",
    "    \n",
    "    #model = gridsearch.fit(X_train, y_train)\n",
    "    #best_params = model.best_estimator_.get_params()\n",
    "    \n",
    "    # now we have the best performing parameters and we can evaluate using accuracy score\n",
    "    #lr_clf = LogisticRegression(**best_params).fit(X_train,y_train)\n",
    "    #pred = lr_clf.predict(X_test)\n",
    "    #print(accuracy_score(y_test, pred))\n",
    "    \n",
    "    # have a good accuracy score, now repeat steps to run test data through LR classifier\n",
    "    \n",
    "#######################################################################################################################\n",
    "    \n",
    "    # load test data\n",
    "    test_raw = pd.read_csv('test.csv',encoding='latin1',low_memory=False)\n",
    "    loc = addresses.merge(latlons, how='inner', on='address')\n",
    "    test_full = test_raw.merge(loc, how='inner', on='ticket_id').set_index('ticket_id')\n",
    "    test = test_full.drop(drop_features,axis=1).fillna(method='pad')\n",
    "    test['grafitti_status'].fillna('',inplace=True)\n",
    "    \n",
    "      \n",
    "    for feature in test.columns:\n",
    "        if isinstance(feature, str):\n",
    "            le.fit(test[feature])\n",
    "            test[feature] = le.transform(test[feature])\n",
    "            \n",
    "    X_test_final = scaler.fit_transform(test)\n",
    "    \n",
    "#######################################################################################################################\n",
    "    \n",
    "    # now create the series of probability values for each ticket\n",
    "    #pred_prob = lr_clf.predict_proba(X_test_final)[:,1]\n",
    "    #prob = pd.Series(pred_prob,index=test.index)\n",
    "    \n",
    "#######################################################################################################################\n",
    "    \n",
    "    # Logistic Regression classifier performed poorly when evaluated by AUC\n",
    "    # repeat previous model selection steps with classidier models in sklearn ensemble package\n",
    "    \n",
    "\n",
    "    \n",
    "    ensemble_models = []\n",
    "    #ensemble_models.append(('Random Forest', RandomForestClassifier()))\n",
    "    #ensemble_models.append(('Gradient Boosting', GradientBoostingClassifier()))\n",
    "    ensemble_models.append(('ADA Booster', AdaBoostClassifier()))\n",
    "    \n",
    "    # use stratified k-fold splits for model selection\n",
    "    output = []\n",
    "    names = []\n",
    "    for name, model in ensemble_models:\n",
    "        kfold = StratifiedKFold(n_splits=3, random_state=0, shuffle=True)\n",
    "        cv_results = cross_val_score(model, X_train, y_train, cv=kfold, scoring='roc_auc')\n",
    "        output.append(cv_results)\n",
    "        names.append(name)\n",
    "        #print('%s\\n Mean Score: %f\\n' % (name, cv_results.mean()) )\n",
    "        \n",
    "    # use classifier with highest average cross validation score (ada booster)\n",
    "    # perform gridsearch to tune parameters\n",
    "    ada_grid = AdaBoostClassifier()\n",
    "    grid_values = {'learning_rate': [.5,.75,1,1.25,1.5,1.75,2]}\n",
    "    \n",
    "    gridsearch = GridSearchCV(ada_grid, grid_values, scoring='roc_auc')\n",
    "    \n",
    "    model = gridsearch.fit(X_train, y_train)\n",
    "    best_params = model.best_estimator_.get_params()\n",
    "    #print(best_params)\n",
    "    \n",
    "    # now we have the best performing parameters and we can evaluate using accuracy score\n",
    "    adaboost_clf = AdaBoostClassifier(**best_params).fit(X_train,y_train)\n",
    "    pred = adaboost_clf.predict(X_test)\n",
    "    #print(accuracy_score(y_test, pred))\n",
    "    \n",
    "    # now create the series of probability values for each ticket\n",
    "    pred_prob = adaboost_clf.predict_proba(X_test_final)[:,1]\n",
    "    prob = pd.Series(pred_prob,index=test.index)\n",
    "    \n",
    "    return prob\n",
    "blight_model()"
   ]
  },
  {
   "cell_type": "code",
   "execution_count": 10,
   "metadata": {
    "collapsed": false
   },
   "outputs": [],
   "source": [
    "#print(blight_model().size)"
   ]
  },
  {
   "cell_type": "code",
   "execution_count": 28,
   "metadata": {
    "collapsed": false
   },
   "outputs": [],
   "source": [
    "# !ls"
   ]
  },
  {
   "cell_type": "code",
   "execution_count": 21,
   "metadata": {
    "collapsed": true
   },
   "outputs": [],
   "source": [
    "# !cat readonly/test.csv > test.csv"
   ]
  },
  {
   "cell_type": "code",
   "execution_count": 29,
   "metadata": {
    "collapsed": false
   },
   "outputs": [],
   "source": [
    "# !ls"
   ]
  },
  {
   "cell_type": "code",
   "execution_count": 25,
   "metadata": {
    "collapsed": true
   },
   "outputs": [],
   "source": [
    "# !cat readonly/latlons.csv > latlons.csv\n",
    "# !cat readonly/addresses.csv > addresses.csv"
   ]
  },
  {
   "cell_type": "code",
   "execution_count": 1,
   "metadata": {
    "collapsed": false
   },
   "outputs": [],
   "source": [
    "# !ls"
   ]
  },
  {
   "cell_type": "markdown",
   "metadata": {},
   "source": [
    "#  Load Training Data"
   ]
  },
  {
   "cell_type": "markdown",
   "metadata": {
    "collapsed": false
   },
   "source": [
    "# read training data file and combine with location data into a full set of training data\n",
    "# with ticket_id as the index\n",
    "train_raw = pd.read_csv('train.csv',encoding='latin1',low_memory=False)\n",
    "latlons = pd.read_csv('latlons.csv', encoding='latin1')\n",
    "addresses = pd.read_csv('addresses.csv', encoding='latin1')\n",
    "    \n",
    "# latlons maps address to coordinates and addresses maps ticket_id to address\n",
    "loc = addresses.merge(latlons, how='inner', on='address')\n",
    "train_full = train_raw.merge(loc, how='inner', on='ticket_id').set_index('ticket_id')\n",
    "    \n",
    "#print(train_full.columns)\n",
    "    \n",
    "# remove columns that leak data or hold info for target var\n",
    "# these features only in training data\n",
    "train_set = train_full.drop(['payment_amount','balance_due','payment_date','payment_status',\n",
    "                                 'collection_status','compliance_detail'],axis=1)\n",
    "#train_set.head()"
   ]
  },
  {
   "cell_type": "markdown",
   "metadata": {},
   "source": [
    "# Feature Selection"
   ]
  },
  {
   "cell_type": "markdown",
   "metadata": {
    "collapsed": false
   },
   "source": [
    "# drop features that don't make sense to encode\n",
    "# drop more after inspection of correlation heatmap\n",
    "# to be dropped from final test data as well\n",
    "drop_features = ['inspector_name','violator_name','violation_street_number','violation_street_name',\n",
    "                 'violation_zip_code','mailing_address_str_number','mailing_address_str_name',\n",
    "                 'non_us_str_code','hearing_date','violation_description','admin_fee','state_fee',\n",
    "                 'late_fee','discount_amount','clean_up_cost','address',\n",
    "                 'agency_name','state','country','ticket_issued_date']\n",
    "    \n",
    "train = train_set.drop(drop_features,axis=1).fillna(method='pad')\n",
    "    \n",
    "train['grafitti_status'].fillna('',inplace=True)\n",
    "\n",
    "# separate target variable from feature data\n",
    "X = train.drop(['compliance'],axis=1)\n",
    "y = train['compliance']\n",
    "\n",
    "#print(X.head())\n",
    "\n",
    "le = preprocessing.LabelEncoder()\n",
    "    \n",
    "for feature in X.columns:\n",
    "    if isinstance(feature, str):\n",
    "            \n",
    "        #print(feature)\n",
    "        le.fit(X[feature])\n",
    "        X[feature] = le.transform(X[feature])\n",
    "\n",
    "# scale and split training data\n",
    "# use train test split on training data, save test data for final validation\n",
    "scaler = preprocessing.MinMaxScaler()\n",
    "X = scaler.fit_transform(X)\n",
    "\n",
    "X_train, X_test, y_train, y_test = train_test_split(X,y, random_state=0)\n",
    "\n",
    "#print(X)"
   ]
  },
  {
   "cell_type": "markdown",
   "metadata": {},
   "source": [
    "# Model Selection"
   ]
  },
  {
   "cell_type": "markdown",
   "metadata": {
    "collapsed": false
   },
   "source": [
    "# Logistic Regression classifier performed poorly when evaluated by AUC\n",
    "# repeat previous model selection steps with classidier models in sklearn ensemble package\n",
    "    \n",
    "ensemble_models = []\n",
    "ensemble_models.append(('Random Forest', RandomForestClassifier()))\n",
    "ensemble_models.append(('Gradient Boosting', GradientBoostingClassifier()))\n",
    "ensemble_models.append(('ADA Booster', AdaBoostClassifier()))\n",
    "    \n",
    "# use stratified k-fold splits for model selection\n",
    "output = []\n",
    "names = []\n",
    "for name, model in ensemble_models:\n",
    "    kfold = StratifiedKFold(n_splits=3, random_state=0, shuffle=True)\n",
    "    cv_results = cross_val_score(model, X_train, y_train, cv=kfold, scoring='roc_auc')\n",
    "    output.append(cv_results)\n",
    "    names.append(name)\n",
    "    print('%s\\n Mean Score: %f\\n' % (name, cv_results.mean()) )"
   ]
  },
  {
   "cell_type": "markdown",
   "metadata": {},
   "source": [
    "# Tune Parameters"
   ]
  },
  {
   "cell_type": "markdown",
   "metadata": {
    "collapsed": false
   },
   "source": [
    "# use classifier with highest average cross validation score (ada booster)\n",
    "# perform gridsearch to tune parameters\n",
    "ada_grid = AdaBoostClassifier()\n",
    "grid_values = {'learning_rate': [.5,.75,1,1.25,1.5,1.75,2]}\n",
    "    \n",
    "gridsearch = GridSearchCV(ada_grid, grid_values)\n",
    "    \n",
    "model = gridsearch.fit(X_train, y_train)\n",
    "best_params = model.best_estimator_.get_params()\n",
    "print(best_params)\n",
    "    \n",
    "# now we have the best performing parameters and we can evaluate using accuracy score\n",
    "adaboost_clf = AdaBoostClassifier(**best_params).fit(X_train,y_train)\n",
    "pred = adaboost_clf.predict(X_test)\n",
    "print(accuracy_score(y_test, pred))"
   ]
  },
  {
   "cell_type": "markdown",
   "metadata": {},
   "source": [
    "# Load Final Test Data"
   ]
  },
  {
   "cell_type": "markdown",
   "metadata": {
    "collapsed": false
   },
   "source": [
    "test_raw = pd.read_csv('test.csv',encoding='latin1',low_memory=False)\n",
    "loc = addresses.merge(latlons, how='inner', on='address')\n",
    "test_full = test_raw.merge(loc, how='inner', on='ticket_id').set_index('ticket_id')\n",
    "test = test_full.drop(drop_features,axis=1).fillna(method='pad')\n",
    "test['grafitti_status'].fillna('',inplace=True)\n",
    "\n",
    "#print(test.head())\n",
    "\n",
    "for feature in test.columns:\n",
    "    if isinstance(feature, str):\n",
    "        le.fit(test[feature])\n",
    "        test[feature] = le.transform(test[feature])\n",
    "            \n",
    "X_test_final = scaler.fit_transform(test)\n",
    "#X_test_final"
   ]
  },
  {
   "cell_type": "code",
   "execution_count": null,
   "metadata": {
    "collapsed": true
   },
   "outputs": [],
   "source": []
  },
  {
   "cell_type": "markdown",
   "metadata": {
    "collapsed": false
   },
   "source": [
    "# now create the series of probability values for each ticket\n",
    "pred_prob = adaboost_clf.predict_proba(X_test_final)[:,0]\n",
    "print(np.max(pred_prob))"
   ]
  },
  {
   "cell_type": "code",
   "execution_count": null,
   "metadata": {
    "collapsed": true
   },
   "outputs": [],
   "source": []
  }
 ],
 "metadata": {
  "coursera": {
   "course_slug": "python-machine-learning",
   "graded_item_id": "nNS8l",
   "launcher_item_id": "yWWk7",
   "part_id": "w8BSS"
  },
  "kernelspec": {
   "display_name": "Python 3",
   "language": "python",
   "name": "python3"
  },
  "language_info": {
   "codemirror_mode": {
    "name": "ipython",
    "version": 3
   },
   "file_extension": ".py",
   "mimetype": "text/x-python",
   "name": "python",
   "nbconvert_exporter": "python",
   "pygments_lexer": "ipython3",
   "version": "3.6.2"
  }
 },
 "nbformat": 4,
 "nbformat_minor": 2
}
